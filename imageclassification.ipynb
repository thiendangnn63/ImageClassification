{
 "cells": [
  {
   "cell_type": "code",
   "execution_count": 5,
   "id": "e8530ebe",
   "metadata": {},
   "outputs": [],
   "source": [
    "import numpy as np\n",
    "from PIL import Image\n",
    "\n",
    "import torch\n",
    "import torch.nn as nn\n",
    "import torch.nn.functional as F\n",
    "import torch.optim as optim\n",
    "\n",
    "import torchvision\n",
    "from torchvision import transforms, datasets, models\n",
    "from torch.utils.data import DataLoader, random_split"
   ]
  },
  {
   "cell_type": "code",
   "execution_count": 6,
   "id": "bbfb2d3b",
   "metadata": {},
   "outputs": [],
   "source": [
    "transform = transforms.Compose([\n",
    "    transforms.ToTensor(),\n",
    "    transforms.Normalize(mean=[0.5, 0.5, 0.5],\n",
    "                         std=[0.5, 0.5, 0.5])\n",
    "])"
   ]
  },
  {
   "cell_type": "code",
   "execution_count": 7,
   "id": "2d062c13",
   "metadata": {},
   "outputs": [],
   "source": [
    "train_data = datasets.CIFAR10(root='./data', train=True, transform=transform, download=True)\n",
    "test_data = datasets.CIFAR10(root='./data', train=False, transform=transform, download=True)\n",
    "\n",
    "train_load= DataLoader(train_data, batch_size=32, shuffle=True, num_workers=2)\n",
    "test_load = DataLoader(test_data, batch_size=32, shuffle=True, num_workers=2)"
   ]
  },
  {
   "cell_type": "code",
   "execution_count": 8,
   "id": "11a81a8d",
   "metadata": {},
   "outputs": [],
   "source": [
    "class_names = ['plane', 'car', 'bird', 'cat', 'deer', 'dog', 'frog', 'horse', 'ship', 'truck']"
   ]
  },
  {
   "cell_type": "code",
   "execution_count": 9,
   "id": "31c9484c",
   "metadata": {},
   "outputs": [],
   "source": [
    "class NeuralNetwork(nn.Module):\n",
    "    def __init__(self):\n",
    "        super().__init__()\n",
    "\n",
    "        self.conv1 = nn.Conv2d(3, 12, 5)\n",
    "        self.pool = nn.MaxPool2d(2, 2)\n",
    "        self.conv2 = nn.Conv2d(12, 24, 5)\n",
    "        self.fc1 = nn.Linear(24 * 5 * 5, 120)\n",
    "        self.fc2 = nn.Linear(120, 84)\n",
    "        self.fc3 = nn.Linear(84, 10)\n",
    "    \n",
    "    def forward(self, x):\n",
    "        x = self.pool(F.relu(self.conv1(x)))\n",
    "        x = self.pool(F.relu(self.conv2(x)))\n",
    "        x = torch.flatten(x, 1)\n",
    "        x = F.relu(self.fc1(x))\n",
    "        x = F.relu(self.fc2(x))\n",
    "        x = self.fc3(x)\n",
    "        return x"
   ]
  },
  {
   "cell_type": "code",
   "execution_count": 10,
   "id": "b1842f81",
   "metadata": {},
   "outputs": [],
   "source": [
    "net = NeuralNetwork()\n",
    "criterion = nn.CrossEntropyLoss()\n",
    "optim = optim.SGD(net.parameters(), lr=0.001, momentum=0.9)"
   ]
  },
  {
   "cell_type": "code",
   "execution_count": 11,
   "id": "1821c3cc",
   "metadata": {},
   "outputs": [],
   "source": [
    "epochs = 20"
   ]
  },
  {
   "cell_type": "code",
   "execution_count": 12,
   "id": "7e553b74",
   "metadata": {},
   "outputs": [
    {
     "name": "stdout",
     "output_type": "stream",
     "text": [
      "Epoch: 1/20 | Batch: 1563, Loss: 2.151\n",
      "Epoch: 2/20 | Batch: 1563, Loss: 1.699\n",
      "Epoch: 3/20 | Batch: 1563, Loss: 1.525\n",
      "Epoch: 4/20 | Batch: 1563, Loss: 1.418\n",
      "Epoch: 5/20 | Batch: 1563, Loss: 1.328\n",
      "Epoch: 6/20 | Batch: 1563, Loss: 1.253\n",
      "Epoch: 7/20 | Batch: 1563, Loss: 1.184\n",
      "Epoch: 8/20 | Batch: 1563, Loss: 1.130\n",
      "Epoch: 9/20 | Batch: 1563, Loss: 1.079\n",
      "Epoch: 10/20 | Batch: 1563, Loss: 1.033\n",
      "Epoch: 11/20 | Batch: 1563, Loss: 0.990\n",
      "Epoch: 12/20 | Batch: 1563, Loss: 0.950\n",
      "Epoch: 13/20 | Batch: 1563, Loss: 0.912\n",
      "Epoch: 14/20 | Batch: 1563, Loss: 0.873\n",
      "Epoch: 15/20 | Batch: 1563, Loss: 0.840\n",
      "Epoch: 16/20 | Batch: 1563, Loss: 0.808\n",
      "Epoch: 17/20 | Batch: 1563, Loss: 0.778\n",
      "Epoch: 18/20 | Batch: 1563, Loss: 0.747\n",
      "Epoch: 19/20 | Batch: 1563, Loss: 0.722\n",
      "Epoch: 20/20 | Batch: 1563, Loss: 0.695\n",
      "Training complete\n",
      "Accuracy on test set: 67.80%\n"
     ]
    }
   ],
   "source": [
    "for epoch in range(epochs):\n",
    "    print(f'Epoch: {epoch+1}/{epochs}', end=' | ')\n",
    "\n",
    "    running_loss = 0.0\n",
    "\n",
    "    for i, data in enumerate(train_load):\n",
    "        inputs, labels = data\n",
    "\n",
    "        optim.zero_grad()\n",
    "\n",
    "        outputs = net(inputs)\n",
    "        loss = criterion(outputs, labels)\n",
    "        loss.backward()\n",
    "        optim.step()\n",
    "\n",
    "        running_loss += loss.item()\n",
    "    print(f'Batch: {i+1}, Loss: {running_loss / (i+1):.3f}')\n",
    "print('Training complete')\n",
    "\n",
    "correct = 0\n",
    "total = 0\n",
    "\n",
    "with torch.no_grad():\n",
    "    for data in test_load:\n",
    "        images, labels = data\n",
    "        outputs = net(images)\n",
    "        _, predicted = torch.max(outputs.data, 1)\n",
    "        total += labels.size(0)\n",
    "        correct += (predicted == labels).sum().item()\n",
    "\n",
    "print(f'Accuracy on test set: {100 * correct / total:.2f}%')"
   ]
  },
  {
   "cell_type": "code",
   "execution_count": 16,
   "id": "d72c7a8d",
   "metadata": {},
   "outputs": [
    {
     "name": "stdout",
     "output_type": "stream",
     "text": [
      "Predicted class for image.png: plane\n"
     ]
    }
   ],
   "source": [
    "test_transform = transforms.Compose([\n",
    "    transforms.Resize((32, 32)),\n",
    "    transforms.ToTensor(),\n",
    "    transforms.Normalize(mean=[0.5, 0.5, 0.5],\n",
    "                         std=[0.5, 0.5, 0.5])\n",
    "])\n",
    "\n",
    "def predict_image(image_path):\n",
    "    image = Image.open(image_path)\n",
    "    image = test_transform(image)\n",
    "    image = image.unsqueeze(0)\n",
    "\n",
    "    with torch.no_grad():\n",
    "        output = net(image)\n",
    "        _, predicted = torch.max(output, 1)\n",
    "    \n",
    "    return class_names[predicted.item()]\n",
    "\n",
    "image_list = ['image.png']\n",
    "for img_path in image_list:\n",
    "    prediction = predict_image(img_path)\n",
    "    print(f'Predicted class for {img_path}: {prediction}')"
   ]
  }
 ],
 "metadata": {
  "kernelspec": {
   "display_name": "Python 3",
   "language": "python",
   "name": "python3"
  },
  "language_info": {
   "codemirror_mode": {
    "name": "ipython",
    "version": 3
   },
   "file_extension": ".py",
   "mimetype": "text/x-python",
   "name": "python",
   "nbconvert_exporter": "python",
   "pygments_lexer": "ipython3",
   "version": "3.13.7"
  }
 },
 "nbformat": 4,
 "nbformat_minor": 5
}
